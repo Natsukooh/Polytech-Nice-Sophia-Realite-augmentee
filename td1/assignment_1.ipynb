{
 "cells": [
  {
   "cell_type": "markdown",
   "metadata": {},
   "source": [
    "# Assignment 1"
   ]
  },
  {
   "cell_type": "markdown",
   "metadata": {},
   "source": [
    "This code tests your installation of OpenCV in python and of pyOpenGL."
   ]
  },
  {
   "cell_type": "markdown",
   "metadata": {},
   "source": [
    "## Test of OpenCV library - cv2"
   ]
  },
  {
   "cell_type": "markdown",
   "metadata": {},
   "source": [
    "This is a modified version of the OpenCV calibration tutorial"
   ]
  },
  {
   "cell_type": "code",
   "execution_count": 10,
   "metadata": {},
   "outputs": [
    {
     "data": {
      "image/png": "[encoded data removed]",
      "text/plain": [
       "<Figure size 432x288 with 1 Axes>"
      ]
     },
     "metadata": {
      "needs_background": "light"
     },
     "output_type": "display_data"
    }
   ],
   "source": [
    "import numpy as np\n",
    "import cv2\n",
    "import matplotlib.pyplot as plt\n",
    "%matplotlib inline\n",
    "\n",
    "# Object coordinates\n",
    "objp = np.zeros((6*7,3), np.float32)\n",
    "objp[:,:2] = np.mgrid[0:7,0:6].T.reshape(-1,2)\n",
    "\n",
    "# Arrays to store image points.\n",
    "imgp = [] # 2d points in image plane.\n",
    "\n",
    "# Read image\n",
    "img = cv2.imread('left1.jpg')\n",
    "\n",
    "# Command #1\n",
    "gray = cv2.cvtColor(img,cv2.COLOR_BGR2GRAY)\n",
    "\n",
    "# Command #2\n",
    "ret, corners = cv2.findChessboardCorners(gray, (7,6),None)\n",
    "\n",
    "# Termination criteria for Command 3\n",
    "criteria = (cv2.TERM_CRITERIA_EPS + cv2.TERM_CRITERIA_MAX_ITER, 30, 0.001)\n",
    "# Command #3\n",
    "cv2.cornerSubPix(gray,corners,(11,11),(-1,-1),criteria)\n",
    "imgp.append(corners)\n",
    "\n",
    "# Command #4\n",
    "cv2.drawChessboardCorners(img, (7,6), corners,ret)\n",
    "\n",
    "xs = []\n",
    "ys = []\n",
    "for i in range(len(imgp[0])):\n",
    "    for x, y in imgp[0][i]:\n",
    "        xs.append(x)\n",
    "        ys.append(y)\n",
    "\n",
    "plt.figure()\n",
    "plt.plot(xs, list(reversed(ys)), \"o-\")\n",
    "plt.show()\n",
    "\n",
    "# Image display with its points\n",
    "cv2.namedWindow('Test calibration')\n",
    "cv2.startWindowThread()\n",
    "cv2.imshow('Test calibration',img)\n",
    "cv2.waitKey(0)\n",
    "cv2.destroyAllWindows()"
   ]
  },
  {
   "cell_type": "markdown",
   "metadata": {},
   "source": [
    "## Test of OpenGL library - pyOpenGL"
   ]
  },
  {
   "cell_type": "markdown",
   "metadata": {},
   "source": [
    "This is a modified version of the NeHe's gamedev tutorial for OpenGL"
   ]
  },
  {
   "cell_type": "code",
   "execution_count": null,
   "metadata": {},
   "outputs": [
    {
     "name": "stdout",
     "output_type": "stream",
     "text": [
      "Press ESC key to kit. The Kernel will be restarted later.\n"
     ]
    }
   ],
   "source": [
    "from OpenGL.GL import *\n",
    "from OpenGL.GLUT import *\n",
    "from OpenGL.GLU import *\n",
    "import sys\n",
    "\n",
    "# Enter here the binary command that is read when you type ESC\n",
    "ESCAPE = b'\\x1b'\n",
    "\n",
    "# Number of the glut window.\n",
    "window = 0\n",
    "\n",
    "# A general OpenGL initialization function.  Sets all of the initial parameters. \n",
    "def InitGL(Width, Height):            # We call this right after our OpenGL window is created.\n",
    "    glClearColor(1.0, 0.0, 1.0, 0.0)  # Background color\n",
    "    glClearDepth(1.0)                 # Enables Clearing Of The Depth Buffer\n",
    "    glDepthFunc(GL_LESS)              # The Type Of Depth Test To Do\n",
    "    glEnable(GL_DEPTH_TEST)           # Enables Depth Testing\n",
    "    glShadeModel(GL_SMOOTH)           # Enables Smooth Color Shading\n",
    "\n",
    "    glMatrixMode(GL_PROJECTION)\n",
    "    glLoadIdentity()# Reset The Projection Matrix\n",
    "    # Calculate The Aspect Ratio Of The Window\n",
    "    gluPerspective(45.0, float(Width)/float(Height), 0.1, 100.0)\n",
    "\n",
    "    glMatrixMode(GL_MODELVIEW)\n",
    "\n",
    "# The function called when our window is resized (it should not be called if full screen option is chosen)\n",
    "def resize_scene(Width, Height):\n",
    "    if Height == 0:                   # Prevent A Divide By Zero If The Window Is Too Small \n",
    "        Height = 1\n",
    "\n",
    "    glViewport(0, 0, Width, Height)   # Reset The Current Viewport And Perspective Transformation\n",
    "    glMatrixMode(GL_PROJECTION)\n",
    "    glLoadIdentity()\n",
    "    gluPerspective(45.0, float(Width)/float(Height), 0.1, 100.0)\n",
    "    glMatrixMode(GL_MODELVIEW)\n",
    "\n",
    "# The main drawing function. \n",
    "def draw():\n",
    "    # Clear The Screen And The Depth Buffer\n",
    "    glClear(GL_COLOR_BUFFER_BIT | GL_DEPTH_BUFFER_BIT)\n",
    "    glLoadIdentity()# Reset The View \n",
    "\n",
    "    # # Move Left 1.5 units and into the screen 6.0 units.\n",
    "    # glTranslatef(0.0, 0.0, -6.0)\n",
    "\n",
    "    # # Draw\n",
    "    # glBegin(GL_POLYGON)                 # Start drawing a polygon\n",
    "    # glVertex3f(0.0, 1.0, 0.0)           # Top\n",
    "    # glVertex3f(1.0, -1.0, 0.0)          # Bottom Right\n",
    "    # glVertex3f(-1.0, -1.0, 0.0)         # Bottom Left\n",
    "    # glEnd()                             # We are done with the polygon\n",
    "\n",
    "    #  since this is double buffered, swap the buffers to display what just got drawn. \n",
    "    glutSwapBuffers()\n",
    "\n",
    "# The function called whenever a key is pressed. Note the use of Python tuples to pass in: (key, x, y)  \n",
    "def key_pressed(key, x, y):\n",
    "    if key == ESCAPE:\n",
    "        glutLeaveMainLoop()\n",
    "        return\n",
    "\n",
    "def main():\n",
    "    global window\n",
    "    # Start glut with empty argument\n",
    "    glutInit(())\n",
    "\n",
    "    # Select type of Display mode:   \n",
    "    # Double buffer \n",
    "    # RGBA color\n",
    "    # Alpha components supported \n",
    "    # Depth buffer\n",
    "    glutInitDisplayMode(GLUT_RGBA | GLUT_DOUBLE | GLUT_ALPHA | GLUT_DEPTH)\n",
    "    \n",
    "    # Window size\n",
    "    glutInitWindowSize(540, 480)\n",
    "    \n",
    "    # the window starts at the upper left corner of the screen \n",
    "    glutInitWindowPosition(0, 0)\n",
    "\n",
    "    # Create a window with GLUT.\n",
    "    window = glutCreateWindow(b\"Assignment 1 - pyOpenGL\")\n",
    "    # Binary cast may be required in Windows version\n",
    "    # window = glutCreateWindow(b\"Assignment 1 - pyOpenGL\") \n",
    "\n",
    "    # Register the drawing function with glut.\n",
    "    glutDisplayFunc(draw)\n",
    "    \n",
    "    # Uncomment this line to get full screen.\n",
    "    #glutFullScreen()\n",
    "\n",
    "    # While ESC is not pressed, redraw the scene.\n",
    "    glutIdleFunc(draw)\n",
    "    \n",
    "    # Register the function called when our window is resized.\n",
    "    glutReshapeFunc(resize_scene)\n",
    "\n",
    "    # Register the function called when the keyboard is pressed.  \n",
    "    glutKeyboardFunc(key_pressed)\n",
    "\n",
    "    # Initialize our window. \n",
    "    InitGL(640, 480)\n",
    "\n",
    "    # Start Event Processing Engine.\n",
    "    glutMainLoop()\n",
    "\n",
    "# Print message to console, and kick off the main to get it rolling.\n",
    "print(\"Press ESC key to kit. The Kernel will be restarted later.\")\n",
    "main()"
   ]
  },
  {
   "cell_type": "code",
   "execution_count": null,
   "metadata": {},
   "outputs": [],
   "source": []
  },
  {
   "cell_type": "code",
   "execution_count": null,
   "metadata": {},
   "outputs": [],
   "source": []
  }
 ],
 "metadata": {
  "anaconda-cloud": {},
  "kernelspec": {
   "display_name": "Python 3 (ipykernel)",
   "language": "python",
   "name": "python3"
  },
  "language_info": {
   "codemirror_mode": {
    "name": "ipython",
    "version": 3
   },
   "file_extension": ".py",
   "mimetype": "text/x-python",
   "name": "python",
   "nbconvert_exporter": "python",
   "pygments_lexer": "ipython3",
   "version": "3.9.6"
  },
  "toc": {
   "colors": {
    "hover_highlight": "#DAA520",
    "running_highlight": "#FF0000",
    "selected_highlight": "#FFD700"
   },
   "moveMenuLeft": true,
   "nav_menu": {
    "height": "82px",
    "width": "252px"
   },
   "navigate_menu": true,
   "number_sections": true,
   "sideBar": true,
   "threshold": 4,
   "toc_cell": false,
   "toc_section_display": "block",
   "toc_window_display": false,
   "widenNotebook": false
  }
 },
 "nbformat": 4,
 "nbformat_minor": 1
}