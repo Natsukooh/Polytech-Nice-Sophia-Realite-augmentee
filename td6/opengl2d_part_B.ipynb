{
 "cells": [
  {
   "cell_type": "markdown",
   "metadata": {
    "collapsed": true,
    "pycharm": {
     "name": "#%% md\n"
    }
   },
   "source": [
    "# PART B : ECG"
   ]
  },
  {
   "cell_type": "markdown",
   "source": [
    "## Imports"
   ],
   "metadata": {
    "collapsed": false,
    "pycharm": {
     "name": "#%% md\n"
    }
   }
  },
  {
   "cell_type": "code",
   "execution_count": 1,
   "outputs": [],
   "source": [
    "from OpenGL.GL import *\n",
    "from OpenGL.GLU import *\n",
    "from OpenGL.GLUT import *\n",
    "import numpy as np\n",
    "import sys\n",
    "import time\n",
    "\n",
    "from math import sin"
   ],
   "metadata": {
    "collapsed": false,
    "pycharm": {
     "name": "#%%\n"
    }
   }
  },
  {
   "cell_type": "markdown",
   "source": [
    "## Initializing settings"
   ],
   "metadata": {
    "collapsed": false,
    "pycharm": {
     "name": "#%% md\n"
    }
   }
  },
  {
   "cell_type": "code",
   "execution_count": 2,
   "outputs": [],
   "source": [
    "ESCAPE = b'\\x1b'\n",
    "window = 0\n",
    "\n",
    "def init():\n",
    "    glEnable(GL_POINT_SMOOTH)\n",
    "    glEnable(GL_LINE_SMOOTH)\n",
    "    glEnable(GL_BLEND)\n",
    "    glBlendFunc(GL_SRC_ALPHA, GL_ONE_MINUS_SRC_ALPHA)\n",
    "\n",
    "    glClearColor(1.0, 1.0, 1.0, 1.0)\n",
    "    gluOrtho2D(0, 25, -5, 50)\n",
    "\n",
    "    global lines\n",
    "    ecg_file = open(\"ecg.txt\", \"r\")\n",
    "    lines = list(map(lambda line: (float(line) - 2047) * 0.01, filter(lambda line: line[0] != \"#\" and line != \"\", ecg_file.readlines())))\n",
    "    ecg_file.close()\n",
    "\n",
    "    global offset\n",
    "    offset = -1"
   ],
   "metadata": {
    "collapsed": false,
    "pycharm": {
     "name": "#%%\n"
    }
   }
  },
  {
   "cell_type": "markdown",
   "source": [
    "## Drawing function to call"
   ],
   "metadata": {
    "collapsed": false,
    "pycharm": {
     "name": "#%% md\n"
    }
   }
  },
  {
   "cell_type": "code",
   "execution_count": 3,
   "outputs": [],
   "source": [
    "def plot_ECG():\n",
    "    glClear(GL_COLOR_BUFFER_BIT)\n",
    "    glColor3f(0.0, 0.0, 0.0)\n",
    "    glPointSize(3.0)\n",
    "    glLineWidth(1.0)\n",
    "\n",
    "    draw_grid()\n",
    "    draw_ECG()\n",
    "\n",
    "    glutSwapBuffers()"
   ],
   "metadata": {
    "collapsed": false,
    "pycharm": {
     "name": "#%%\n"
    }
   }
  },
  {
   "cell_type": "markdown",
   "source": [
    "## Grid plotting"
   ],
   "metadata": {
    "collapsed": false,
    "pycharm": {
     "name": "#%% md\n"
    }
   }
  },
  {
   "cell_type": "code",
   "execution_count": 4,
   "outputs": [],
   "source": [
    "def draw_grid():\n",
    "    glColor3f(0., 0., 0.)\n",
    "    glLineWidth(.5)\n",
    "\n",
    "    for i in np.linspace(-5., 50., 56):\n",
    "        if i % 5 != 0:\n",
    "            glLineWidth(.5)\n",
    "        else:\n",
    "            glLineWidth(1.)\n",
    "\n",
    "        glBegin(GL_LINES)\n",
    "        glVertex2f(0., i)\n",
    "        glVertex2f(25., i)\n",
    "        glEnd()\n",
    "\n",
    "    for i in np.linspace(0., 25., 26):\n",
    "        if i % 5 != 0:\n",
    "            glLineWidth(.5)\n",
    "        else:\n",
    "            glLineWidth(1.)\n",
    "\n",
    "        glBegin(GL_LINES)\n",
    "        glVertex2f(i, -5.)\n",
    "        glVertex2f(i, 50.)\n",
    "        glEnd()"
   ],
   "metadata": {
    "collapsed": false,
    "pycharm": {
     "name": "#%%\n"
    }
   }
  },
  {
   "cell_type": "markdown",
   "source": [
    "## ECG plotting"
   ],
   "metadata": {
    "collapsed": false,
    "pycharm": {
     "name": "#%% md\n"
    }
   }
  },
  {
   "cell_type": "code",
   "execution_count": 5,
   "outputs": [],
   "source": [
    "def draw_ECG():\n",
    "    global lines\n",
    "    global offset\n",
    "    global buffer\n",
    "\n",
    "    if offset < len(lines) - 1:\n",
    "        offset += 1\n",
    "\n",
    "        if offset % 26 == 0:\n",
    "            buffer = np.empty((26,))\n",
    "\n",
    "        buffer[offset % 26] = lines[offset]\n",
    "\n",
    "        glColor3f(1., 0., 0.)\n",
    "        for i in range(offset % 26):\n",
    "            glBegin(GL_LINES)\n",
    "            glVertex2f(i, buffer[i])\n",
    "            glVertex2f(i+1, buffer[i+1])\n",
    "            glEnd()\n",
    "\n",
    "        time.sleep(1 / 26)"
   ],
   "metadata": {
    "collapsed": false,
    "pycharm": {
     "name": "#%%\n"
    }
   }
  },
  {
   "cell_type": "markdown",
   "source": [
    "## Main function"
   ],
   "metadata": {
    "collapsed": false,
    "pycharm": {
     "name": "#%% md\n"
    }
   }
  },
  {
   "cell_type": "code",
   "execution_count": 6,
   "outputs": [],
   "source": [
    "def main():\n",
    "    global window\n",
    "    glutInit(())\n",
    "    glutInitDisplayMode(GLUT_SINGLE|GLUT_RGB)\n",
    "    glutInitWindowPosition(50,50)\n",
    "    glutInitWindowSize(500,500)\n",
    "    glutCreateWindow(b\"Function Plotter\")\n",
    "    glutDisplayFunc(plot_ECG)\n",
    "    glutIdleFunc(plot_ECG)\n",
    "    glutKeyboardFunc(keyPressed)\n",
    "    init()\n",
    "    glutMainLoop()\n",
    "\n",
    "def keyPressed(key, x, y):\n",
    "    if key == ESCAPE:\n",
    "        glutLeaveMainLoop()\n",
    "        return"
   ],
   "metadata": {
    "collapsed": false,
    "pycharm": {
     "name": "#%%\n"
    }
   }
  },
  {
   "cell_type": "code",
   "execution_count": null,
   "outputs": [
    {
     "name": "stdout",
     "output_type": "stream",
     "text": [
      "Hit ESC key to quit.\n"
     ]
    }
   ],
   "source": [
    "print(\"Hit ESC key to quit.\")\n",
    "main()"
   ],
   "metadata": {
    "collapsed": false,
    "pycharm": {
     "name": "#%%\n",
     "is_executing": true
    }
   }
  }
 ],
 "metadata": {
  "kernelspec": {
   "display_name": "Python 3",
   "language": "python",
   "name": "python3"
  },
  "language_info": {
   "codemirror_mode": {
    "name": "ipython",
    "version": 2
   },
   "file_extension": ".py",
   "mimetype": "text/x-python",
   "name": "python",
   "nbconvert_exporter": "python",
   "pygments_lexer": "ipython2",
   "version": "2.7.6"
  }
 },
 "nbformat": 4,
 "nbformat_minor": 0
}