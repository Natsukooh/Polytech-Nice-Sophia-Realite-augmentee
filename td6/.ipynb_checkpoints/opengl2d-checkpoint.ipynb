{
 "cells": [
  {
   "cell_type": "markdown",
   "metadata": {},
   "source": [
    "Import libraries"
   ]
  },
  {
   "cell_type": "code",
   "execution_count": 1,
   "metadata": {},
   "outputs": [],
   "source": [
    "from OpenGL.GL import *\n",
    "from OpenGL.GLU import *\n",
    "from OpenGL.GLUT import *\n",
    "import numpy as np\n",
    "import sys\n",
    "import time"
   ]
  },
  {
   "cell_type": "markdown",
   "metadata": {},
   "source": [
    "Initializing settings"
   ]
  },
  {
   "cell_type": "code",
   "execution_count": 2,
   "metadata": {},
   "outputs": [],
   "source": [
    "# Some api in the chain is translating the keystrokes to this binary string\n",
    "# so instead of saying: ESCAPE = 27, we use the following.\n",
    "ESCAPE = b'\\x1b'\n",
    "\n",
    "# Number of the glut window.\n",
    "window = 0\n",
    "\n",
    "def init():\n",
    "    # Commands # 1\n",
    "    glEnable(GL_POINT_SMOOTH) # 1.1  # draws points with proper filtering. Would have drawn aliased points otherwise\n",
    "    glEnable(GL_LINE_SMOOTH)  # 1.2  # draws lines with proper filtering. Would have drawn aliased points otherwise\n",
    "    glEnable(GL_BLEND)        # 1.3  # blends the computed fragment color values with the values in the color buffers\n",
    "    glBlendFunc(GL_SRC_ALPHA, GL_ONE_MINUS_SRC_ALPHA) # 1.4  # useful for rendering antialiased points and lines in arbitrary order\n",
    "    # Commands # 2\n",
    "    glClearColor(1.0, 1.0, 1.0, 1.0) # 2.1  # specifies the color values used to clear the color buffer (will be useful in command 3.1)\n",
    "    gluOrtho2D(-5.0, 5.0, -5.0, 5.0) # 2.2  # sets up a two-dimensional orthographic viewing region"
   ]
  },
  {
   "cell_type": "markdown",
   "metadata": {},
   "source": [
    "Function to be plotted"
   ]
  },
  {
   "cell_type": "code",
   "execution_count": 3,
   "metadata": {},
   "outputs": [],
   "source": [
    "def func_x2(input_vec):\n",
    "    vertices = [[x, x*x] for x in input_vec]\n",
    "    return np.array(vertices)"
   ]
  },
  {
   "cell_type": "code",
   "execution_count": 4,
   "metadata": {},
   "outputs": [],
   "source": [
    "#def func_rand_normal(input_vec):\n",
    "#     ..."
   ]
  },
  {
   "cell_type": "markdown",
   "metadata": {},
   "source": [
    "Plotting function in OpenGL"
   ]
  },
  {
   "cell_type": "code",
   "execution_count": 5,
   "metadata": {},
   "outputs": [],
   "source": [
    "def plot_func():\n",
    "    \n",
    "    # Commands # 3\n",
    "    glClear(GL_COLOR_BUFFER_BIT) # 3.1  # clears the color buffer (see command 2.1)\n",
    "    glColor3f(0.0, 0.0, 0.0)     # 3.2  # sets the current color to black (#000000 and 0x00 as alpha)\n",
    "    glPointSize(3.0)             # 3.3  # sets to 3 the diameter of rasterized points\n",
    "    glLineWidth(1.0)             # 3.4  # sets to 1 the width of rasterized lines\n",
    "    \n",
    "    # Commands # 4\n",
    "    glBegin(GL_LINES)           # indicates that we are gonna describe a line by its vertices (each pair of vertice will be the two points delimiting a line)\n",
    "    glVertex2f(-5.0, 0.0)       # defines the first vertex, that will form a line with the next one\n",
    "    glVertex2f(5.0, 0.0)        # defines the second vertex, that forms a line with the previous one\n",
    "    glVertex2f(0.0, 5.0)        # here we...\n",
    "    glVertex2f(0.0, -5.0)       # ...go again\n",
    "    glEnd()                     # indicates that the vertices description is over\n",
    "\n",
    "    # Set points to plot graphic\n",
    "    vertices=func_x2(np.linspace(-5.0,5.0,101))\n",
    "    #vertices=func_rand_normal(np.linspace(-5.0,5.0,101))\n",
    "    \n",
    "    # Commands # 5\n",
    "    for i in range(len(vertices)-1):\n",
    "        glBegin(GL_LINES)       # once again we are gonna draw some lines\n",
    "        glColor3f(0.8,0.2,0.2)  # we are gonna draw some red\n",
    "        # You can use the two lines below for older versions\n",
    "        # of pyOpenGL. For newer versions these two lines do not\n",
    "        # work properly, during execution the graphic window will\n",
    "        # open and quickly close.\n",
    "        # glVertex2fv(vertices[i])\n",
    "        # glVertex2fv(vertices[i+1])\n",
    "        # Comment the two lines above and uncomment the two lines\n",
    "        # below if you have newer version of pyOpenGL \n",
    "        glVertex2f(vertices[i,0],vertices[i,1])         # start point : (i, i²)\n",
    "        glVertex2f(vertices[i+1,0],vertices[i+1,1])     # end point : (i+1, (i+1)²))\n",
    "        glEnd()     # we are done drawing lines lezgooo\n",
    "    \n",
    "    # Commands # 6\n",
    "    for i in range(len(vertices)):\n",
    "        glBegin(GL_POINTS)          # let's draw some points\n",
    "        glColor3f(0.1,0.5,0.1)      # let's draw some green\n",
    "        # Same remarks as above concerning the lines with \n",
    "        # glVertex2fv()\n",
    "        # glVertex2fv(vertices[i])\n",
    "        glVertex2f(vertices[i,0],vertices[i,1])     # a point at coords (i, i²)\n",
    "        glEnd()     # it's over\n",
    "    \n",
    "    # Commands # 7\n",
    "    # time.sleep(...)\n",
    "    glutSwapBuffers()       # swaps the buffers of the current window if double buffered"
   ]
  },
  {
   "cell_type": "markdown",
   "metadata": {},
   "source": [
    "Function that checks if a key has been pressed on the keyboard"
   ]
  },
  {
   "cell_type": "code",
   "execution_count": 6,
   "metadata": {},
   "outputs": [],
   "source": [
    "# The function called whenever a key is pressed. Note the use of Python tuples to pass in: (key, x, y)  \n",
    "def keyPressed(key, x, y):\n",
    "    if key == ESCAPE:\n",
    "        glutLeaveMainLoop()\n",
    "        return"
   ]
  },
  {
   "cell_type": "markdown",
   "metadata": {},
   "source": [
    "Main function with initialization, drawing and querying for external inputs (keyboard)"
   ]
  },
  {
   "cell_type": "code",
   "execution_count": 7,
   "metadata": {},
   "outputs": [],
   "source": [
    "def main():\n",
    "    global window\n",
    "    glutInit(())\n",
    "    glutInitDisplayMode(GLUT_SINGLE|GLUT_RGB)\n",
    "    glutInitWindowPosition(50,50)\n",
    "    glutInitWindowSize(500,500)\n",
    "    glutCreateWindow(b\"Function Plotter\")\n",
    "    glutDisplayFunc(plot_func)\n",
    "    # When we are doing nothing, redraw the scene.\n",
    "    glutIdleFunc(plot_func)\n",
    "    # Register the function called when the keyboard is pressed.  \n",
    "    glutKeyboardFunc(keyPressed)\n",
    "    # Initialization\n",
    "    init()\n",
    "    # Main drawing loop\n",
    "    glutMainLoop()"
   ]
  },
  {
   "cell_type": "markdown",
   "metadata": {},
   "source": [
    "Executing main function"
   ]
  },
  {
   "cell_type": "code",
   "execution_count": 8,
   "metadata": {},
   "outputs": [
    {
     "name": "stdout",
     "output_type": "stream",
     "text": [
      "Hit ESC key to quit.\n"
     ]
    },
    {
     "ename": "NullFunctionError",
     "evalue": "Attempt to call an undefined function glutInit, check for bool(glutInit) before calling",
     "output_type": "error",
     "traceback": [
      "\u001b[1;31m---------------------------------------------------------------------------\u001b[0m",
      "\u001b[1;31mNullFunctionError\u001b[0m                         Traceback (most recent call last)",
      "Input \u001b[1;32mIn [8]\u001b[0m, in \u001b[0;36m<module>\u001b[1;34m\u001b[0m\n\u001b[0;32m      1\u001b[0m \u001b[38;5;66;03m# Print message to console, and kick off the main to get it rolling.\u001b[39;00m\n\u001b[0;32m      2\u001b[0m \u001b[38;5;28mprint\u001b[39m(\u001b[38;5;124m\"\u001b[39m\u001b[38;5;124mHit ESC key to quit.\u001b[39m\u001b[38;5;124m\"\u001b[39m)\n\u001b[1;32m----> 3\u001b[0m \u001b[43mmain\u001b[49m\u001b[43m(\u001b[49m\u001b[43m)\u001b[49m\n",
      "Input \u001b[1;32mIn [7]\u001b[0m, in \u001b[0;36mmain\u001b[1;34m()\u001b[0m\n\u001b[0;32m      1\u001b[0m \u001b[38;5;28;01mdef\u001b[39;00m \u001b[38;5;21mmain\u001b[39m():\n\u001b[0;32m      2\u001b[0m     \u001b[38;5;28;01mglobal\u001b[39;00m window\n\u001b[1;32m----> 3\u001b[0m     \u001b[43mglutInit\u001b[49m\u001b[43m(\u001b[49m\u001b[43m(\u001b[49m\u001b[43m)\u001b[49m\u001b[43m)\u001b[49m\n\u001b[0;32m      4\u001b[0m     glutInitDisplayMode(GLUT_SINGLE\u001b[38;5;241m|\u001b[39mGLUT_RGB)\n\u001b[0;32m      5\u001b[0m     glutInitWindowPosition(\u001b[38;5;241m50\u001b[39m,\u001b[38;5;241m50\u001b[39m)\n",
      "File \u001b[1;32mD:\\Programs\\env\\Python\\lib\\site-packages\\OpenGL\\GLUT\\special.py:333\u001b[0m, in \u001b[0;36mglutInit\u001b[1;34m(*args)\u001b[0m\n\u001b[0;32m    330\u001b[0m currentDirectory \u001b[38;5;241m=\u001b[39m os\u001b[38;5;241m.\u001b[39mgetcwd()\n\u001b[0;32m    331\u001b[0m \u001b[38;5;28;01mtry\u001b[39;00m:\n\u001b[0;32m    332\u001b[0m     \u001b[38;5;66;03m# XXX need to check for error condition here...\u001b[39;00m\n\u001b[1;32m--> 333\u001b[0m     \u001b[43m_base_glutInit\u001b[49m\u001b[43m(\u001b[49m\u001b[43m \u001b[49m\u001b[43mctypes\u001b[49m\u001b[38;5;241;43m.\u001b[39;49m\u001b[43mbyref\u001b[49m\u001b[43m(\u001b[49m\u001b[43mcount\u001b[49m\u001b[43m)\u001b[49m\u001b[43m,\u001b[49m\u001b[43m \u001b[49m\u001b[43mholder\u001b[49m\u001b[43m \u001b[49m\u001b[43m)\u001b[49m\n\u001b[0;32m    334\u001b[0m \u001b[38;5;28;01mfinally\u001b[39;00m:\n\u001b[0;32m    335\u001b[0m     os\u001b[38;5;241m.\u001b[39mchdir( currentDirectory )\n",
      "File \u001b[1;32mD:\\Programs\\env\\Python\\lib\\site-packages\\OpenGL\\platform\\baseplatform.py:423\u001b[0m, in \u001b[0;36m_NullFunctionPointer.__call__\u001b[1;34m(self, *args, **named)\u001b[0m\n\u001b[0;32m    421\u001b[0m     \u001b[38;5;28;01mpass\u001b[39;00m\n\u001b[0;32m    422\u001b[0m \u001b[38;5;28;01melse\u001b[39;00m:\n\u001b[1;32m--> 423\u001b[0m     \u001b[38;5;28;01mraise\u001b[39;00m error\u001b[38;5;241m.\u001b[39mNullFunctionError(\n\u001b[0;32m    424\u001b[0m         \u001b[38;5;124;03m\"\"\"Attempt to call an undefined function %s, check for bool(%s) before calling\"\"\"\u001b[39;00m\u001b[38;5;241m%\u001b[39m(\n\u001b[0;32m    425\u001b[0m             \u001b[38;5;28mself\u001b[39m\u001b[38;5;241m.\u001b[39m\u001b[38;5;18m__name__\u001b[39m, \u001b[38;5;28mself\u001b[39m\u001b[38;5;241m.\u001b[39m\u001b[38;5;18m__name__\u001b[39m,\n\u001b[0;32m    426\u001b[0m         )\n\u001b[0;32m    427\u001b[0m     )\n",
      "\u001b[1;31mNullFunctionError\u001b[0m: Attempt to call an undefined function glutInit, check for bool(glutInit) before calling"
     ]
    }
   ],
   "source": [
    "# Print message to console, and kick off the main to get it rolling.\n",
    "print(\"Hit ESC key to quit.\")\n",
    "main()"
   ]
  },
  {
   "cell_type": "code",
   "execution_count": null,
   "metadata": {},
   "outputs": [],
   "source": []
  }
 ],
 "metadata": {
  "anaconda-cloud": {},
  "kernelspec": {
   "display_name": "Python 3 (ipykernel)",
   "language": "python",
   "name": "python3"
  },
  "language_info": {
   "codemirror_mode": {
    "name": "ipython",
    "version": 3
   },
   "file_extension": ".py",
   "mimetype": "text/x-python",
   "name": "python",
   "nbconvert_exporter": "python",
   "pygments_lexer": "ipython3",
   "version": "3.10.2"
  },
  "toc": {
   "colors": {
    "hover_highlight": "#DAA520",
    "running_highlight": "#FF0000",
    "selected_highlight": "#FFD700"
   },
   "moveMenuLeft": true,
   "nav_menu": {
    "height": "12px",
    "width": "252px"
   },
   "navigate_menu": true,
   "number_sections": true,
   "sideBar": true,
   "threshold": 4,
   "toc_cell": false,
   "toc_section_display": "block",
   "toc_window_display": false,
   "widenNotebook": false
  }
 },
 "nbformat": 4,
 "nbformat_minor": 1
}
