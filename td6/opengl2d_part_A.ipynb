{
 "cells": [
  {
   "cell_type": "markdown",
   "source": [
    "# PART A : drawing a plot"
   ],
   "metadata": {
    "collapsed": false,
    "pycharm": {
     "name": "#%% md\n"
    }
   }
  },
  {
   "cell_type": "markdown",
   "source": [
    "Import libraries"
   ],
   "metadata": {
    "collapsed": false
   }
  },
  {
   "cell_type": "code",
   "execution_count": 1,
   "outputs": [],
   "source": [
    "from OpenGL.GL import *\n",
    "from OpenGL.GLU import *\n",
    "from OpenGL.GLUT import *\n",
    "import numpy as np\n",
    "import sys\n",
    "import time\n",
    "\n",
    "from math import sin"
   ],
   "metadata": {
    "collapsed": false,
    "pycharm": {
     "name": "#%%\n"
    }
   }
  },
  {
   "cell_type": "markdown",
   "source": [
    "Initializing settings"
   ],
   "metadata": {
    "collapsed": false
   }
  },
  {
   "cell_type": "code",
   "execution_count": 2,
   "outputs": [],
   "source": [
    "# Some api in the chain is translating the keystrokes to this binary string\n",
    "# so instead of saying: ESCAPE = 27, we use the following.\n",
    "ESCAPE = b'\\x1b'\n",
    "\n",
    "# Number of the glut window.\n",
    "window = 0\n",
    "\n",
    "def init():\n",
    "    # Commands # 1 : global setup for OpenGL rendering\n",
    "    glEnable(GL_POINT_SMOOTH) # 1.1  # draws points with proper filtering. Would have drawn aliased points otherwise\n",
    "    glEnable(GL_LINE_SMOOTH)  # 1.2  # draws lines with proper filtering. Would have drawn aliased points otherwise\n",
    "    glEnable(GL_BLEND)        # 1.3  # blends the computed fragment color values with the values in the color buffers\n",
    "    glBlendFunc(GL_SRC_ALPHA, GL_ONE_MINUS_SRC_ALPHA) # 1.4  # useful for rendering antialiased points and lines in arbitrary order\n",
    "\n",
    "    # Commands # 2 : sets up window by clearing the color buffer and setting the orthogonal mark's bounds\n",
    "    glClearColor(1.0, 1.0, 1.0, 1.0) # 2.1  # specifies the color values used to clear the color buffer (will be useful in command 3.1)\n",
    "    gluOrtho2D(-5.0, 5.0, -5.0, 5.0) # 2.2  # sets up a two-dimensional orthographic viewing region with width and length 10"
   ],
   "metadata": {
    "collapsed": false,
    "pycharm": {
     "name": "#%%\n"
    }
   }
  },
  {
   "cell_type": "markdown",
   "metadata": {},
   "source": [
    "Function to be plotted"
   ]
  },
  {
   "cell_type": "code",
   "execution_count": 3,
   "metadata": {},
   "outputs": [],
   "source": [
    "def func_x2(input_vec):\n",
    "    vertices = [[x, x*x] for x in input_vec]\n",
    "    return np.array(vertices)"
   ]
  },
  {
   "cell_type": "code",
   "execution_count": 4,
   "metadata": {},
   "outputs": [],
   "source": [
    "def func_rand_normal(input_vec):\n",
    "    vertices = np.array(list(zip(input_vec, np.random.normal(0, .1, len(input_vec)))))\n",
    "    return vertices"
   ]
  },
  {
   "cell_type": "markdown",
   "metadata": {},
   "source": [
    "Plotting function in OpenGL"
   ]
  },
  {
   "cell_type": "code",
   "execution_count": 5,
   "metadata": {},
   "outputs": [],
   "source": [
    "def plot_func():\n",
    "    \n",
    "    # Commands # 3 : sets up drawing color, dots size and lines size\n",
    "    glClear(GL_COLOR_BUFFER_BIT) # 3.1  # clears the color buffer (see command 2.1)\n",
    "    glColor3f(0.0, 0.0, 0.0)     # 3.2  # sets the current color to black (#000000 and 0x00 as alpha)\n",
    "    glPointSize(3.0)             # 3.3  # sets to 3 the diameter of rasterized points\n",
    "    glLineWidth(1.0)             # 3.4  # sets to 1 the width of rasterized lines\n",
    "    \n",
    "    # Commands # 4 : plotting the axes\n",
    "    glBegin(GL_LINES)           # indicates that we are gonna describe a line by its vertices (each pair of vertice will be the two points delimiting a line)\n",
    "    glVertex2f(-5.0, 0.0)       # defines the first vertex, that will form a line with the next one\n",
    "    glVertex2f(5.0, 0.0)        # defines the second vertex, that forms a line with the previous one\n",
    "    glVertex2f(0.0, 5.0)        # here we...\n",
    "    glVertex2f(0.0, -5.0)       # ...go again\n",
    "    glEnd()                     # indicates that the vertices description is over\n",
    "\n",
    "    # Set points to plot graphic\n",
    "    vertices=func_x2(np.linspace(-5.0,5.0,101))\n",
    "    #vertices=func_rand_normal(np.linspace(-5.0,5.0,101))\n",
    "    \n",
    "    # Commands # 5 : plotting the square function as lines between (x, x²) and (x+0.1, (x+0.1)²) for each x in [-5, 5] with a 0.1 step\n",
    "    for i in range(len(vertices)-1):\n",
    "        glBegin(GL_LINES)       # once again we are gonna draw some lines\n",
    "        glColor3f(0.8,0.2,0.2)  # we are gonna draw some red\n",
    "        # You can use the two lines below for older versions\n",
    "        # of pyOpenGL. For newer versions these two lines do not\n",
    "        # work properly, during execution the graphic window will\n",
    "        # open and quickly close.\n",
    "        # glVertex2fv(vertices[i])\n",
    "        # glVertex2fv(vertices[i+1])\n",
    "        # Comment the two lines above and uncomment the two lines\n",
    "        # below if you have newer version of pyOpenGL \n",
    "        glVertex2f(vertices[i,0],vertices[i,1])         # start point : (i, i²)\n",
    "        glVertex2f(vertices[i+1,0],vertices[i+1,1])     # end point : (i+1, (i+1)²))\n",
    "        glEnd()     # we are done drawing lines lezgooo\n",
    "\n",
    "    # Commands # 6 : plotting the square function as points (x, x²) for each x in [-5, 5] with a 0.1 step\n",
    "    for i in range(len(vertices)):\n",
    "        glBegin(GL_POINTS)          # let's draw some points\n",
    "        glColor3f(0.1,0.5,0.1)      # let's draw some green\n",
    "        # Same remarks as above concerning the lines with \n",
    "        # glVertex2fv()\n",
    "        # glVertex2fv(vertices[i])\n",
    "        glVertex2f(vertices[i,0],vertices[i,1])     # a point at coords (i, i²)\n",
    "        glEnd()     # it's over\n",
    "\n",
    "    plot_sin()      # question IA2\n",
    "    plot_random()   # question IA3\n",
    "    plot_grid()     # question IA4\n",
    "    \n",
    "    # Commands # 7\n",
    "    # time.sleep(...)\n",
    "    glutSwapBuffers()       # swaps the buffers of the current window if double buffered"
   ]
  },
  {
   "cell_type": "code",
   "execution_count": 6,
   "outputs": [],
   "source": [
    "# question IA2\n",
    "def plot_sin():\n",
    "    sin_vertices = np.array([[x, sin(x)] for x in np.linspace(-5., 5., 101)])\n",
    "\n",
    "    for i in range(len(sin_vertices)-1):\n",
    "        glBegin(GL_LINES)\n",
    "        glColor3f(0.8,0.2,0.2)\n",
    "\n",
    "        glVertex2f(sin_vertices[i,0], sin_vertices[i,1])\n",
    "        glVertex2f(sin_vertices[i+1,0], sin_vertices[i+1,1])\n",
    "\n",
    "        glEnd()\n",
    "\n",
    "    for i in range(len(sin_vertices)-1):\n",
    "        glBegin(GL_POINTS)\n",
    "        glColor3f(0.1,0.5,0.1)\n",
    "        glVertex2f(sin_vertices[i,0], sin_vertices[i,1])\n",
    "        glEnd()"
   ],
   "metadata": {
    "collapsed": false,
    "pycharm": {
     "name": "#%%\n"
    }
   }
  },
  {
   "cell_type": "code",
   "execution_count": 7,
   "outputs": [],
   "source": [
    "# question IA3\n",
    "def plot_random():\n",
    "    random_vertices = func_rand_normal(np.linspace(-5.0,5.0,101))\n",
    "\n",
    "    for i in range(len(random_vertices)-1):\n",
    "        glBegin(GL_LINES)\n",
    "        glColor3f(0.8,0.2,0.2)\n",
    "\n",
    "        glVertex2f(random_vertices[i,0], random_vertices[i,1])\n",
    "        glVertex2f(random_vertices[i+1,0], random_vertices[i+1,1])\n",
    "\n",
    "        glEnd()\n",
    "\n",
    "    for i in range(len(random_vertices)-1):\n",
    "        glBegin(GL_POINTS)\n",
    "        glColor3f(0.1,0.5,0.1)\n",
    "        glVertex2f(random_vertices[i,0], random_vertices[i,1])\n",
    "        glEnd()"
   ],
   "metadata": {
    "collapsed": false,
    "pycharm": {
     "name": "#%%\n"
    }
   }
  },
  {
   "cell_type": "code",
   "execution_count": 8,
   "outputs": [],
   "source": [
    "# question IA4\n",
    "def plot_grid():\n",
    "    for i in np.linspace(-5., 5., 11):\n",
    "        glBegin(GL_LINES)\n",
    "        glColor3f(0.3, 0.3, 0.3)\n",
    "\n",
    "        glVertex2f(i, 5)\n",
    "        glVertex2f(i, -5)\n",
    "\n",
    "        glVertex2f(-5, i)\n",
    "        glVertex2f(5, i)\n",
    "\n",
    "        glEnd()"
   ],
   "metadata": {
    "collapsed": false,
    "pycharm": {
     "name": "#%%\n"
    }
   }
  },
  {
   "cell_type": "markdown",
   "metadata": {},
   "source": [
    "Function that checks if a key has been pressed on the keyboard"
   ]
  },
  {
   "cell_type": "code",
   "execution_count": 9,
   "metadata": {},
   "outputs": [],
   "source": [
    "# The function called whenever a key is pressed. Note the use of Python tuples to pass in: (key, x, y)  \n",
    "def keyPressed(key, x, y):\n",
    "    if key == ESCAPE:\n",
    "        glutLeaveMainLoop()\n",
    "        return"
   ]
  },
  {
   "cell_type": "markdown",
   "metadata": {},
   "source": [
    "Main function with initialization, drawing and querying for external inputs (keyboard)"
   ]
  },
  {
   "cell_type": "code",
   "execution_count": 10,
   "metadata": {},
   "outputs": [],
   "source": [
    "def main():\n",
    "    global window\n",
    "    glutInit(())\n",
    "    glutInitDisplayMode(GLUT_SINGLE|GLUT_RGB)\n",
    "    glutInitWindowPosition(50,50)\n",
    "    glutInitWindowSize(500,500)\n",
    "    glutCreateWindow(b\"Function Plotter\")\n",
    "    glutDisplayFunc(plot_func) # UNCOMMENT FOR EXERCISE A\n",
    "    # When we are doing nothing, redraw the scene.\n",
    "    glutIdleFunc(plot_func) # UNCOMMENT FOR EXERCISE A\n",
    "    # Register the function called when the keyboard is pressed.  \n",
    "    glutKeyboardFunc(keyPressed)\n",
    "    # Initialization\n",
    "    init()\n",
    "    # Main drawing loop\n",
    "    glutMainLoop()"
   ]
  },
  {
   "cell_type": "markdown",
   "metadata": {},
   "source": [
    "Executing main function"
   ]
  },
  {
   "cell_type": "code",
   "execution_count": null,
   "metadata": {
    "pycharm": {
     "is_executing": true,
     "name": "#%%\n"
    }
   },
   "outputs": [
    {
     "name": "stdout",
     "output_type": "stream",
     "text": [
      "Hit ESC key to quit.\n"
     ]
    }
   ],
   "source": [
    "# Print message to console, and kick off the main to get it rolling.\n",
    "print(\"Hit ESC key to quit.\")\n",
    "main()"
   ]
  }
 ],
 "metadata": {
  "anaconda-cloud": {},
  "kernelspec": {
   "display_name": "Python 3 (ipykernel)",
   "language": "python",
   "name": "python3"
  },
  "language_info": {
   "codemirror_mode": {
    "name": "ipython",
    "version": 3
   },
   "file_extension": ".py",
   "mimetype": "text/x-python",
   "name": "python",
   "nbconvert_exporter": "python",
   "pygments_lexer": "ipython3",
   "version": "3.10.2"
  },
  "toc": {
   "colors": {
    "hover_highlight": "#DAA520",
    "running_highlight": "#FF0000",
    "selected_highlight": "#FFD700"
   },
   "moveMenuLeft": true,
   "nav_menu": {
    "height": "12px",
    "width": "252px"
   },
   "navigate_menu": true,
   "number_sections": true,
   "sideBar": true,
   "threshold": 4,
   "toc_cell": false,
   "toc_section_display": "block",
   "toc_window_display": false,
   "widenNotebook": false
  }
 },
 "nbformat": 4,
 "nbformat_minor": 1
}